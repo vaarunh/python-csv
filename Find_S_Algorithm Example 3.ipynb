{
  "nbformat": 4,
  "nbformat_minor": 0,
  "metadata": {
    "colab": {
      "name": "Find-S Algorithm.ipynb",
      "provenance": [],
      "authorship_tag": "ABX9TyPulpT3HcTuT1dO9+tCqQQC",
      "include_colab_link": true
    },
    "kernelspec": {
      "name": "python3",
      "display_name": "Python 3"
    },
    "language_info": {
      "name": "python"
    }
  },
  "cells": [
    {
      "cell_type": "markdown",
      "metadata": {
        "id": "view-in-github",
        "colab_type": "text"
      },
      "source": [
        "<a href=\"https://colab.research.google.com/github/varunherlekar/python-csv/blob/main/Find_S_Algorithm%20Example%203.ipynb\" target=\"_parent\"><img src=\"https://colab.research.google.com/assets/colab-badge.svg\" alt=\"Open In Colab\"/></a>"
      ]
    },
    {
      "cell_type": "code",
      "metadata": {
        "colab": {
          "base_uri": "https://localhost:8080/"
        },
        "id": "40gk9r0898vF",
        "outputId": "6daace36-17ea-40fa-e928-5d8a7fdaabae"
      },
      "source": [
        "import pandas as pd\n",
        "import numpy as np\n",
        " \n",
        "#to read the data in the csv file\n",
        "data = pd.read_csv(\"Book1.csv\")\n",
        "print(data,\"n\")\n",
        " \n",
        "#making an array of all the attributes\n",
        "d = np.array(data)[:,:-1]\n",
        "print(\"n The attributes are: \",d)\n",
        " \n",
        "#segragating the target that has positive and negative examples\n",
        "target = np.array(data)[:,-1]\n",
        "print(\"n The target is: \",target)\n",
        " \n",
        "#training function to implement find-s algorithm\n",
        "def train(c,t):\n",
        "    for i, val in enumerate(t):\n",
        "        if val == \"Yes\":\n",
        "            specific_hypothesis = c[i].copy()\n",
        "            break\n",
        "             \n",
        "    for i, val in enumerate(c):\n",
        "        if t[i] == \"Yes\":\n",
        "            for x in range(len(specific_hypothesis)):\n",
        "                if val[x] != specific_hypothesis[x]:\n",
        "                    specific_hypothesis[x] = '?'\n",
        "                else:\n",
        "                    pass\n",
        "                 \n",
        "    return specific_hypothesis\n",
        " \n",
        "#obtaining the final hypothesis\n",
        "print(\"n The final hypothesis is:\",train(d,target))"
      ],
      "execution_count": 1,
      "outputs": [
        {
          "output_type": "stream",
          "name": "stdout",
          "text": [
            "    Day   Outlook Temperature Humidity    Wind PlayTennis\n",
            "0     1     Sunny         Hot     High    Weak         No\n",
            "1     2     Sunny         Hot     High  Strong         No\n",
            "2     3  Overcast         Hot     High    Weak        Yes\n",
            "3     4      Rain        Mild     High    Weak        Yes\n",
            "4     5      Rain        Cool   Normal    Weak        Yes\n",
            "5     6      Rain        Cool   Normal  Strong         No\n",
            "6     7  Overcast        Cool   Normal  Strong        Yes\n",
            "7     8     Sunny        Mild     High    Weak         No\n",
            "8     9     Sunny        Cool   Normal    Weak        Yes\n",
            "9    10      Rain        Mild   Normal    Weak        Yes\n",
            "10   11     Sunny        Mild   Normal  Strong        Yes\n",
            "11   12  Overcast        Mild     High  Strong        Yes\n",
            "12   13  Overcast         Hot   Normal    Weak        Yes\n",
            "13   14      Rain        Mild     High  Strong         No n\n",
            "n The attributes are:  [[1 'Sunny' 'Hot' 'High' 'Weak']\n",
            " [2 'Sunny' 'Hot' 'High' 'Strong']\n",
            " [3 'Overcast' 'Hot' 'High' 'Weak']\n",
            " [4 'Rain' 'Mild' 'High' 'Weak']\n",
            " [5 'Rain' 'Cool' 'Normal' 'Weak']\n",
            " [6 'Rain' 'Cool' 'Normal' 'Strong']\n",
            " [7 'Overcast' 'Cool' 'Normal' 'Strong']\n",
            " [8 'Sunny' 'Mild' 'High' 'Weak']\n",
            " [9 'Sunny' 'Cool' 'Normal' 'Weak']\n",
            " [10 'Rain' 'Mild' 'Normal' 'Weak']\n",
            " [11 'Sunny' 'Mild' 'Normal' 'Strong']\n",
            " [12 'Overcast' 'Mild' 'High' 'Strong']\n",
            " [13 'Overcast' 'Hot' 'Normal' 'Weak']\n",
            " [14 'Rain' 'Mild' 'High' 'Strong']]\n",
            "n The target is:  ['No' 'No' 'Yes' 'Yes' 'Yes' 'No' 'Yes' 'No' 'Yes' 'Yes' 'Yes' 'Yes' 'Yes'\n",
            " 'No']\n",
            "n The final hypothesis is: ['?' '?' '?' '?' '?']\n"
          ]
        }
      ]
    }
  ]
}