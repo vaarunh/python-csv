{
  "nbformat": 4,
  "nbformat_minor": 0,
  "metadata": {
    "colab": {
      "name": "Find_S_Algorith_Example4.ipynb",
      "provenance": [],
      "authorship_tag": "ABX9TyOtfWMxSxTvsHkyhziaW+7W",
      "include_colab_link": true
    },
    "kernelspec": {
      "name": "python3",
      "display_name": "Python 3"
    },
    "language_info": {
      "name": "python"
    }
  },
  "cells": [
    {
      "cell_type": "markdown",
      "metadata": {
        "id": "view-in-github",
        "colab_type": "text"
      },
      "source": [
        "<a href=\"https://colab.research.google.com/github/varunherlekar/python-csv/blob/main/Find_S_Algorith_Example4.ipynb\" target=\"_parent\"><img src=\"https://colab.research.google.com/assets/colab-badge.svg\" alt=\"Open In Colab\"/></a>"
      ]
    },
    {
      "cell_type": "code",
      "metadata": {
        "colab": {
          "base_uri": "https://localhost:8080/"
        },
        "id": "nEY1KWm5jxdL",
        "outputId": "d7f3f802-b7b0-4ee8-f476-6d59b10b5ec2"
      },
      "source": [
        "import pandas as pd\n",
        "import numpy as np\n",
        " \n",
        "#to read the data in the csv file\n",
        "data = pd.read_csv(\"Book2.csv\")\n",
        "print(data,\"n\")\n",
        " \n",
        "#making an array of all the attributes\n",
        "d = np.array(data)[:,:-1]\n",
        "print(\"n The attributes are: \",d)\n",
        " \n",
        "#segragating the target that has positive and negative examples\n",
        "target = np.array(data)[:,-1]\n",
        "print(\"n The target is: \",target)\n",
        " \n",
        "#training function to implement find-s algorithm\n",
        "def train(c,t):\n",
        "    for i, val in enumerate(t):\n",
        "        if val == \"Yes\":\n",
        "            specific_hypothesis = c[i].copy()\n",
        "            break\n",
        "             \n",
        "    for i, val in enumerate(c):\n",
        "        if t[i] == \"Yes\":\n",
        "            for x in range(len(specific_hypothesis)):\n",
        "                if val[x] != specific_hypothesis[x]:\n",
        "                    specific_hypothesis[x] = '?'\n",
        "                else:\n",
        "                    pass\n",
        "                 \n",
        "    return specific_hypothesis\n",
        " \n",
        "#obtaining the final hypothesis\n",
        "print(\"n The final hypothesis is:\",train(d,target))"
      ],
      "execution_count": 3,
      "outputs": [
        {
          "output_type": "stream",
          "name": "stdout",
          "text": [
            "    Outlook Temperature Humidity    Wind Play tennis\n",
            "0  Overcast         Hot     High    Weak         Yes\n",
            "1      Rain        Mild     High    Weak         Yes\n",
            "2      Rain        Cool   Normal  Strong          No\n",
            "3  overcast        Cool   Normal    Weak         yes n\n",
            "n The attributes are:  [['Overcast' 'Hot' 'High' 'Weak']\n",
            " ['Rain' 'Mild' 'High' 'Weak']\n",
            " ['Rain' 'Cool' 'Normal' 'Strong']\n",
            " ['overcast' 'Cool' 'Normal' 'Weak']]\n",
            "n The target is:  ['Yes' 'Yes' 'No' 'yes']\n",
            "n The final hypothesis is: ['?' '?' 'High' 'Weak']\n"
          ]
        }
      ]
    }
  ]
}