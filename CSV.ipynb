{
  "nbformat": 4,
  "nbformat_minor": 0,
  "metadata": {
    "kernelspec": {
      "display_name": "Python 3",
      "language": "python",
      "name": "python3"
    },
    "language_info": {
      "codemirror_mode": {
        "name": "ipython",
        "version": 3
      },
      "file_extension": ".py",
      "mimetype": "text/x-python",
      "name": "python",
      "nbconvert_exporter": "python",
      "pygments_lexer": "ipython3",
      "version": "3.7.6"
    },
    "colab": {
      "name": "CSV.ipynb",
      "provenance": [],
      "include_colab_link": true
    }
  },
  "cells": [
    {
      "cell_type": "markdown",
      "metadata": {
        "id": "view-in-github",
        "colab_type": "text"
      },
      "source": [
        "<a href=\"https://colab.research.google.com/github/varunherlekar/python-csv/blob/main/CSV.ipynb\" target=\"_parent\"><img src=\"https://colab.research.google.com/assets/colab-badge.svg\" alt=\"Open In Colab\"/></a>"
      ]
    },
    {
      "cell_type": "markdown",
      "metadata": {
        "id": "UysyM4Gi5-Sh"
      },
      "source": [
        "CSV"
      ]
    },
    {
      "cell_type": "markdown",
      "metadata": {
        "id": "xeCJTdXs5-Sr"
      },
      "source": [
        "### Read CSV using Python's inbuilt standard library csv"
      ]
    },
    {
      "cell_type": "code",
      "metadata": {
        "id": "2dldA1Hy5-Ss"
      },
      "source": [
        "import csv"
      ],
      "execution_count": 1,
      "outputs": []
    },
    {
      "cell_type": "code",
      "metadata": {
        "id": "-2g35yKK5-Sv"
      },
      "source": [
        "file = open('Salary_Data.csv')"
      ],
      "execution_count": 3,
      "outputs": []
    },
    {
      "cell_type": "code",
      "metadata": {
        "id": "tKLGUKd15-Sx"
      },
      "source": [
        "csvreader = csv.reader(file)"
      ],
      "execution_count": 4,
      "outputs": []
    },
    {
      "cell_type": "code",
      "metadata": {
        "colab": {
          "base_uri": "https://localhost:8080/"
        },
        "id": "rCU8fS-m5-Sy",
        "outputId": "444190d0-fd7a-48c1-df71-3882d42b7515"
      },
      "source": [
        "header = []\n",
        "header = next(csvreader)\n",
        "header"
      ],
      "execution_count": 5,
      "outputs": [
        {
          "output_type": "execute_result",
          "data": {
            "text/plain": [
              "['YearsExperience', 'Salary']"
            ]
          },
          "metadata": {},
          "execution_count": 5
        }
      ]
    },
    {
      "cell_type": "code",
      "metadata": {
        "colab": {
          "base_uri": "https://localhost:8080/"
        },
        "id": "LOUaOvqx5-Sz",
        "outputId": "864d91a3-e5b8-4f19-efa1-5af6a1354351"
      },
      "source": [
        "rows = []\n",
        "for row in csvreader:\n",
        "    rows.append(row)\n",
        "rows"
      ],
      "execution_count": 6,
      "outputs": [
        {
          "output_type": "execute_result",
          "data": {
            "text/plain": [
              "[['1.1', '39343.00'],\n",
              " ['1.3', '46205.00'],\n",
              " ['1.5', '37731.00'],\n",
              " ['2.0', '43525.00'],\n",
              " ['2.2', '39891.00'],\n",
              " ['2.9', '56642.00'],\n",
              " ['3.0', '60150.00'],\n",
              " ['3.2', '54445.00'],\n",
              " ['3.2', '64445.00'],\n",
              " ['3.7', '57189.00'],\n",
              " ['3.9', '63218.00'],\n",
              " ['4.0', '55794.00'],\n",
              " ['4.0', '56957.00'],\n",
              " ['4.1', '57081.00'],\n",
              " ['4.5', '61111.00'],\n",
              " ['4.9', '67938.00'],\n",
              " ['5.1', '66029.00'],\n",
              " ['5.3', '83088.00'],\n",
              " ['5.9', '81363.00'],\n",
              " ['6.0', '93940.00'],\n",
              " ['6.8', '91738.00'],\n",
              " ['7.1', '98273.00'],\n",
              " ['7.9', '101302.00'],\n",
              " ['8.2', '113812.00'],\n",
              " ['8.7', '109431.00'],\n",
              " ['9.0', '105582.00'],\n",
              " ['9.5', '116969.00'],\n",
              " ['9.6', '112635.00'],\n",
              " ['10.3', '122391.00'],\n",
              " ['10.5', '121872.00']]"
            ]
          },
          "metadata": {},
          "execution_count": 6
        }
      ]
    },
    {
      "cell_type": "code",
      "metadata": {
        "id": "aWnWkBGL5-S0"
      },
      "source": [
        "file.close()"
      ],
      "execution_count": 7,
      "outputs": []
    },
    {
      "cell_type": "markdown",
      "metadata": {
        "id": "UUcP1-iR5-S1"
      },
      "source": [
        "#### complete code"
      ]
    },
    {
      "cell_type": "code",
      "metadata": {
        "colab": {
          "base_uri": "https://localhost:8080/"
        },
        "id": "WT58qfIG5-S3",
        "outputId": "f92ac655-1c85-42af-d775-01fd247b9a8d"
      },
      "source": [
        "import csv\n",
        "file = open(\"Salary_Data.csv\")\n",
        "csvreader = csv.reader(file)\n",
        "header = next(csvreader)\n",
        "print(header)\n",
        "rows = []\n",
        "for row in csvreader:\n",
        "    rows.append(row)\n",
        "print(rows)\n",
        "file.close()"
      ],
      "execution_count": 8,
      "outputs": [
        {
          "output_type": "stream",
          "name": "stdout",
          "text": [
            "['YearsExperience', 'Salary']\n",
            "[['1.1', '39343.00'], ['1.3', '46205.00'], ['1.5', '37731.00'], ['2.0', '43525.00'], ['2.2', '39891.00'], ['2.9', '56642.00'], ['3.0', '60150.00'], ['3.2', '54445.00'], ['3.2', '64445.00'], ['3.7', '57189.00'], ['3.9', '63218.00'], ['4.0', '55794.00'], ['4.0', '56957.00'], ['4.1', '57081.00'], ['4.5', '61111.00'], ['4.9', '67938.00'], ['5.1', '66029.00'], ['5.3', '83088.00'], ['5.9', '81363.00'], ['6.0', '93940.00'], ['6.8', '91738.00'], ['7.1', '98273.00'], ['7.9', '101302.00'], ['8.2', '113812.00'], ['8.7', '109431.00'], ['9.0', '105582.00'], ['9.5', '116969.00'], ['9.6', '112635.00'], ['10.3', '122391.00'], ['10.5', '121872.00']]\n"
          ]
        }
      ]
    },
    {
      "cell_type": "code",
      "metadata": {
        "id": "QAPQwMEe5-TB"
      },
      "source": [
        ""
      ],
      "execution_count": null,
      "outputs": []
    }
  ]
}