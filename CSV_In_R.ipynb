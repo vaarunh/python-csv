{
  "nbformat": 4,
  "nbformat_minor": 0,
  "metadata": {
    "colab": {
      "name": "CSV In R.ipynb",
      "provenance": [],
      "authorship_tag": "ABX9TyMemHJYekqAYKz+PuPMZ0Bh",
      "include_colab_link": true
    },
    "kernelspec": {
      "name": "ir",
      "display_name": "R"
    },
    "language_info": {
      "name": "R"
    }
  },
  "cells": [
    {
      "cell_type": "markdown",
      "metadata": {
        "id": "view-in-github",
        "colab_type": "text"
      },
      "source": [
        "<a href=\"https://colab.research.google.com/github/varunherlekar/python-csv/blob/main/CSV_In_R.ipynb\" target=\"_parent\"><img src=\"https://colab.research.google.com/assets/colab-badge.svg\" alt=\"Open In Colab\"/></a>"
      ]
    },
    {
      "cell_type": "code",
      "metadata": {
        "colab": {
          "base_uri": "https://localhost:8080/"
        },
        "id": "mRlwjW-vZ3Ye",
        "outputId": "42983de6-90d5-4485-8207-978b507cbbe9"
      },
      "source": [
        "data <- read.csv(\"input.csv\")\n",
        "print(data)"
      ],
      "execution_count": 2,
      "outputs": [
        {
          "output_type": "stream",
          "name": "stdout",
          "text": [
            "  id     name salary start_date       dept\n",
            "1  1     Rick 623.30 2012-01-01         IT\n",
            "2  2      Dan 515.20 2013-09-23 Operations\n",
            "3  3 Michelle 611.00 2014-11-15         IT\n",
            "4  4     Ryan 729.00 2014-05-11         HR\n",
            "5  5     Gary 843.25 2015-03-27    Finance\n",
            "6  6     Nina 578.00 2013-05-21         IT\n",
            "7  7    Simon 632.80 2013-07-30 Operations\n",
            "8  8     Guru 722.50 2014-06-17    Finance\n"
          ]
        }
      ]
    },
    {
      "cell_type": "code",
      "metadata": {
        "colab": {
          "base_uri": "https://localhost:8080/"
        },
        "id": "KA21JMJ1aSLM",
        "outputId": "f1f7530f-1f4f-49ec-af46-efef980ec4cf"
      },
      "source": [
        "data <- read.csv(\"input.csv\")\n",
        "\n",
        "print(is.data.frame(data))\n",
        "print(ncol(data))\n",
        "print(nrow(data))"
      ],
      "execution_count": 3,
      "outputs": [
        {
          "output_type": "stream",
          "name": "stdout",
          "text": [
            "[1] TRUE\n",
            "[1] 5\n",
            "[1] 8\n"
          ]
        }
      ]
    },
    {
      "cell_type": "code",
      "metadata": {
        "colab": {
          "base_uri": "https://localhost:8080/"
        },
        "id": "fPNs_xV9ac47",
        "outputId": "364623b4-3f5b-483a-ea3a-032fa896b134"
      },
      "source": [
        "sal <- max(data$salary)\n",
        "print(sal)"
      ],
      "execution_count": 4,
      "outputs": [
        {
          "output_type": "stream",
          "name": "stdout",
          "text": [
            "[1] 843.25\n"
          ]
        }
      ]
    },
    {
      "cell_type": "code",
      "metadata": {
        "colab": {
          "base_uri": "https://localhost:8080/"
        },
        "id": "hVyzQ4fcan9u",
        "outputId": "b128a884-0e80-4c15-8776-b35d0f025dc7"
      },
      "source": [
        "# Create a data frame.\n",
        "data <- read.csv(\"input.csv\")\n",
        "retval <- subset(data, as.Date(start_date) > as.Date(\"2014-01-01\"))\n",
        "\n",
        "# Write filtered data into a new file.\n",
        "write.csv(retval,\"output.csv\")\n",
        "newdata <- read.csv(\"output.csv\")\n",
        "print(newdata)"
      ],
      "execution_count": 5,
      "outputs": [
        {
          "output_type": "stream",
          "name": "stdout",
          "text": [
            "  X id     name salary start_date    dept\n",
            "1 3  3 Michelle 611.00 2014-11-15      IT\n",
            "2 4  4     Ryan 729.00 2014-05-11      HR\n",
            "3 5  5     Gary 843.25 2015-03-27 Finance\n",
            "4 8  8     Guru 722.50 2014-06-17 Finance\n"
          ]
        }
      ]
    }
  ]
}